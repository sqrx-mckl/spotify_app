{
 "cells": [
  {
   "cell_type": "code",
   "execution_count": 1,
   "metadata": {},
   "outputs": [],
   "source": [
    "from pathlib import Path\n",
    "from IPython.display import display\n",
    "\n",
    "import numpy as np\n",
    "import pandas as pd\n",
    "\n",
    "import spotipy\n",
    "import lib_spotify_app.api_adapter as api_adapter\n",
    "\n",
    "pd.set_option('max_columns', None)"
   ]
  },
  {
   "cell_type": "code",
   "execution_count": 2,
   "metadata": {},
   "outputs": [],
   "source": [
    "credential_fp = Path(r'private/spotify_credential.json')"
   ]
  },
  {
   "cell_type": "markdown",
   "metadata": {},
   "source": [
    "I download all the saved/liked tracks from my Spotify account and their audio features:\n",
    "https://developer.spotify.com/documentation/web-api/reference/tracks/get-several-audio-features/"
   ]
  },
  {
   "cell_type": "code",
   "execution_count": 3,
   "metadata": {},
   "outputs": [],
   "source": [
    "sp = api_adapter.setup_spotipy(\n",
    "    credential_fp,\n",
    "    scope=['user-library-read','user-top-read'],\n",
    "    cache_path=Path(r'private')\n",
    ")\n",
    "\n",
    "df = api_adapter.query_liked_songs(sp)\n",
    "df = api_adapter.enrich_audiofeature(df, sp, col=\"track.id\")"
   ]
  },
  {
   "cell_type": "code",
   "execution_count": 4,
   "metadata": {},
   "outputs": [],
   "source": [
    "df = df.drop('index', axis=1)\n",
    "df['added_at'] = pd.to_datetime(df['added_at'])"
   ]
  },
  {
   "cell_type": "markdown",
   "metadata": {},
   "source": [
    "I notice that I can know when I saved/liked the song, I would like to know when I was the most active:"
   ]
  },
  {
   "cell_type": "markdown",
   "metadata": {},
   "source": [
    "Cleaning of the columns for analysis, names are too complex and I will concatenate the \"artists\" into a list column"
   ]
  },
  {
   "cell_type": "code",
   "execution_count": 5,
   "metadata": {
    "tags": []
   },
   "outputs": [
    {
     "output_type": "execute_result",
     "data": {
      "text/plain": "array(['added_at', 'album.album_type',\n       'album.artists.0.external_urls.spotify', 'album.artists.0.href',\n       'album.artists.0.id', 'album.artists.0.name',\n       'album.artists.0.type', 'album.artists.0.uri',\n       'album.available_markets', 'album.external_urls.spotify',\n       'album.href', 'album.id', 'album.images.0.height',\n       'album.images.0.url', 'album.images.0.width',\n       'album.images.1.height', 'album.images.1.url',\n       'album.images.1.width', 'album.images.2.height',\n       'album.images.2.url', 'album.images.2.width', 'album.name',\n       'album.release_date', 'album.release_date_precision',\n       'album.total_tracks', 'album.type', 'album.uri',\n       'artists.0.external_urls.spotify', 'artists.0.href',\n       'artists.0.id', 'artists.0.name', 'artists.0.type',\n       'artists.0.uri', 'available_markets', 'disc_number', 'duration_ms',\n       'explicit', 'external_ids.isrc', 'external_urls.spotify', 'href',\n       'id', 'is_local', 'name', 'popularity', 'preview_url',\n       'track_number', 'type', 'uri',\n       'album.artists.1.external_urls.spotify', 'album.artists.1.href',\n       'album.artists.1.id', 'album.artists.1.name',\n       'album.artists.1.type', 'album.artists.1.uri',\n       'artists.1.external_urls.spotify', 'artists.1.href',\n       'artists.1.id', 'artists.1.name', 'artists.1.type',\n       'artists.1.uri', 'artists.2.external_urls.spotify',\n       'artists.2.href', 'artists.2.id', 'artists.2.name',\n       'artists.2.type', 'artists.2.uri',\n       'artists.3.external_urls.spotify', 'artists.3.href',\n       'artists.3.id', 'artists.3.name', 'artists.3.type',\n       'artists.3.uri', 'artists.4.external_urls.spotify',\n       'artists.4.href', 'artists.4.id', 'artists.4.name',\n       'artists.4.type', 'artists.4.uri',\n       'artists.5.external_urls.spotify', 'artists.5.href',\n       'artists.5.id', 'artists.5.name', 'artists.5.type',\n       'artists.5.uri', 'artists.6.external_urls.spotify',\n       'artists.6.href', 'artists.6.id', 'artists.6.name',\n       'artists.6.type', 'artists.6.uri',\n       'artists.7.external_urls.spotify', 'artists.7.href',\n       'artists.7.id', 'artists.7.name', 'artists.7.type',\n       'artists.7.uri', 'artists.8.external_urls.spotify',\n       'artists.8.href', 'artists.8.id', 'artists.8.name',\n       'artists.8.type', 'artists.8.uri',\n       'linked_from.external_urls.spotify', 'linked_from.href',\n       'linked_from.id', 'linked_from.type', 'linked_from.uri',\n       'album.artists.2.external_urls.spotify', 'album.artists.2.href',\n       'album.artists.2.id', 'album.artists.2.name',\n       'album.artists.2.type', 'album.artists.2.uri',\n       'album.artists.3.external_urls.spotify', 'album.artists.3.href',\n       'album.artists.3.id', 'album.artists.3.name',\n       'album.artists.3.type', 'album.artists.3.uri',\n       'album.artists.4.external_urls.spotify', 'album.artists.4.href',\n       'album.artists.4.id', 'album.artists.4.name',\n       'album.artists.4.type', 'album.artists.4.uri',\n       'album.artists.5.external_urls.spotify', 'album.artists.5.href',\n       'album.artists.5.id', 'album.artists.5.name',\n       'album.artists.5.type', 'album.artists.5.uri',\n       'album.artists.6.external_urls.spotify', 'album.artists.6.href',\n       'album.artists.6.id', 'album.artists.6.name',\n       'album.artists.6.type', 'album.artists.6.uri', 'album.images',\n       'index', 'danceability', 'energy', 'key', 'loudness', 'mode',\n       'speechiness', 'acousticness', 'instrumentalness', 'liveness',\n       'valence', 'tempo', 'track_href', 'analysis_url', 'time_signature'],\n      dtype=object)"
     },
     "metadata": {},
     "execution_count": 5
    }
   ],
   "source": [
    "df.columns = df.columns.str.replace('^(track\\.)(id\\.)?', '')\n",
    "df = df.loc[:,~df.columns.duplicated()]\n",
    "df.columns.values"
   ]
  },
  {
   "cell_type": "markdown",
   "metadata": {},
   "source": [
    "Concatenate the artists values into 1 column for:\n",
    "* names\n",
    "* id"
   ]
  },
  {
   "cell_type": "code",
   "execution_count": 6,
   "metadata": {},
   "outputs": [],
   "source": [
    "df['artists.name'] = df.filter(regex='^artists\\.\\d+\\.name')\\\n",
    "                       .apply(lambda x: x.dropna().to_list(), axis=1)\n",
    "df['artists.id'] = df.filter(regex='^artists\\.\\d+\\.id')\\\n",
    "                     .apply(lambda x: x.dropna().to_list(), axis=1)\n",
    "df['duration_min'] = df['duration_ms'] / 60000"
   ]
  },
  {
   "cell_type": "code",
   "execution_count": 11,
   "metadata": {},
   "outputs": [
    {
     "output_type": "execute_result",
     "data": {
      "text/plain": "                             name          artists.name  \\\n2580                   SICKO MODE        [Travis Scott]   \n2981                      bad guy       [Billie Eilish]   \n3698  Godzilla (feat. Juice WRLD)  [Eminem, Juice WRLD]   \n3279   The Less I Know The Better         [Tame Impala]   \n185                 The Scientist            [Coldplay]   \n3280              Pumped Up Kicks   [Foster The People]   \n1466                   In the End         [Linkin Park]   \n2375                    EARFQUAKE  [Tyler, The Creator]   \n527                         Creep           [Radiohead]   \n4276                    Buttercup        [Jack Stauber]   \n\n                                            preview_url  \\\n2580  https://p.scdn.co/mp3-preview/1c3c01c64477b356...   \n2981  https://p.scdn.co/mp3-preview/11fadb5f777b56f8...   \n3698  https://p.scdn.co/mp3-preview/f2163fa560d312d2...   \n3279  https://p.scdn.co/mp3-preview/529af81043b7b86a...   \n185   https://p.scdn.co/mp3-preview/95cb9df1b056d759...   \n3280  https://p.scdn.co/mp3-preview/db83e69f4ef8a49f...   \n1466  https://p.scdn.co/mp3-preview/6ce8bcf317e8c562...   \n2375  https://p.scdn.co/mp3-preview/d6528c193bac76f7...   \n527   https://p.scdn.co/mp3-preview/e7eb60e9466bc3a2...   \n4276  https://p.scdn.co/mp3-preview/9bfed2dc805ed4f2...   \n\n                                  external_urls.spotify  popularity  \n2580  https://open.spotify.com/track/2xLMifQCjDGFmkH...          91  \n2981  https://open.spotify.com/track/2Fxmhks0bxGSBdJ...          90  \n3698  https://open.spotify.com/track/7FIWs0pqAYbP91W...          89  \n3279  https://open.spotify.com/track/6K4t31amVTZDgR3...          85  \n185   https://open.spotify.com/track/75JFxkI2RXiU7L9...          83  \n3280  https://open.spotify.com/track/7w87IxuO7BDcJ3Y...          83  \n1466  https://open.spotify.com/track/60a0Rd6pjrkxjPb...          83  \n2375  https://open.spotify.com/track/5hVghJ4KaYES3BF...          82  \n527   https://open.spotify.com/track/6b2oQwSGFkzsMtQ...          82  \n4276  https://open.spotify.com/track/2mlGPkAx4kwF8Df...          81  ",
      "text/html": "<div>\n<style scoped>\n    .dataframe tbody tr th:only-of-type {\n        vertical-align: middle;\n    }\n\n    .dataframe tbody tr th {\n        vertical-align: top;\n    }\n\n    .dataframe thead th {\n        text-align: right;\n    }\n</style>\n<table border=\"1\" class=\"dataframe\">\n  <thead>\n    <tr style=\"text-align: right;\">\n      <th></th>\n      <th>name</th>\n      <th>artists.name</th>\n      <th>preview_url</th>\n      <th>external_urls.spotify</th>\n      <th>popularity</th>\n    </tr>\n  </thead>\n  <tbody>\n    <tr>\n      <th>2580</th>\n      <td>SICKO MODE</td>\n      <td>[Travis Scott]</td>\n      <td>https://p.scdn.co/mp3-preview/1c3c01c64477b356...</td>\n      <td>https://open.spotify.com/track/2xLMifQCjDGFmkH...</td>\n      <td>91</td>\n    </tr>\n    <tr>\n      <th>2981</th>\n      <td>bad guy</td>\n      <td>[Billie Eilish]</td>\n      <td>https://p.scdn.co/mp3-preview/11fadb5f777b56f8...</td>\n      <td>https://open.spotify.com/track/2Fxmhks0bxGSBdJ...</td>\n      <td>90</td>\n    </tr>\n    <tr>\n      <th>3698</th>\n      <td>Godzilla (feat. Juice WRLD)</td>\n      <td>[Eminem, Juice WRLD]</td>\n      <td>https://p.scdn.co/mp3-preview/f2163fa560d312d2...</td>\n      <td>https://open.spotify.com/track/7FIWs0pqAYbP91W...</td>\n      <td>89</td>\n    </tr>\n    <tr>\n      <th>3279</th>\n      <td>The Less I Know The Better</td>\n      <td>[Tame Impala]</td>\n      <td>https://p.scdn.co/mp3-preview/529af81043b7b86a...</td>\n      <td>https://open.spotify.com/track/6K4t31amVTZDgR3...</td>\n      <td>85</td>\n    </tr>\n    <tr>\n      <th>185</th>\n      <td>The Scientist</td>\n      <td>[Coldplay]</td>\n      <td>https://p.scdn.co/mp3-preview/95cb9df1b056d759...</td>\n      <td>https://open.spotify.com/track/75JFxkI2RXiU7L9...</td>\n      <td>83</td>\n    </tr>\n    <tr>\n      <th>3280</th>\n      <td>Pumped Up Kicks</td>\n      <td>[Foster The People]</td>\n      <td>https://p.scdn.co/mp3-preview/db83e69f4ef8a49f...</td>\n      <td>https://open.spotify.com/track/7w87IxuO7BDcJ3Y...</td>\n      <td>83</td>\n    </tr>\n    <tr>\n      <th>1466</th>\n      <td>In the End</td>\n      <td>[Linkin Park]</td>\n      <td>https://p.scdn.co/mp3-preview/6ce8bcf317e8c562...</td>\n      <td>https://open.spotify.com/track/60a0Rd6pjrkxjPb...</td>\n      <td>83</td>\n    </tr>\n    <tr>\n      <th>2375</th>\n      <td>EARFQUAKE</td>\n      <td>[Tyler, The Creator]</td>\n      <td>https://p.scdn.co/mp3-preview/d6528c193bac76f7...</td>\n      <td>https://open.spotify.com/track/5hVghJ4KaYES3BF...</td>\n      <td>82</td>\n    </tr>\n    <tr>\n      <th>527</th>\n      <td>Creep</td>\n      <td>[Radiohead]</td>\n      <td>https://p.scdn.co/mp3-preview/e7eb60e9466bc3a2...</td>\n      <td>https://open.spotify.com/track/6b2oQwSGFkzsMtQ...</td>\n      <td>82</td>\n    </tr>\n    <tr>\n      <th>4276</th>\n      <td>Buttercup</td>\n      <td>[Jack Stauber]</td>\n      <td>https://p.scdn.co/mp3-preview/9bfed2dc805ed4f2...</td>\n      <td>https://open.spotify.com/track/2mlGPkAx4kwF8Df...</td>\n      <td>81</td>\n    </tr>\n  </tbody>\n</table>\n</div>"
     },
     "metadata": {},
     "execution_count": 11
    }
   ],
   "source": [
    "df.sort_values('popularity', ascending=False)[['name', 'artists.name', 'preview_url', 'external_urls.spotify', 'popularity']].head(10)"
   ]
  },
  {
   "cell_type": "code",
   "execution_count": 12,
   "metadata": {},
   "outputs": [],
   "source": [
    "df.to_csv(Path(r'private/data.csv'), sep='\\t')"
   ]
  },
  {
   "cell_type": "markdown",
   "metadata": {},
   "source": [
    "We can use the LastFM app to enrich the songs features with the number of listening from the user"
   ]
  },
  {
   "cell_type": "code",
   "execution_count": 22,
   "metadata": {},
   "outputs": [
    {
     "output_type": "display_data",
     "data": {
      "text/plain": "                                         item  weight\n0              The Garden - Call The Dogs Out      84\n1    the spirit of the beehive - hypnic jerks      75\n2                                liily - Toro      74\n3            Violent Soho - Covered in Chrome      74\n4                   Beach Bums - Keepaneyeout      73\n..                                        ...     ...\n495      Led Zeppelin - When the Levee Breaks      13\n496                              liily - Sold      13\n497              Magic Potion - Rest Yr Skull      13\n498                   Metric - Help I'm Alive      13\n499                 Miike Snow - In Search Of      13\n\n[500 rows x 2 columns]",
      "text/html": "<div>\n<style scoped>\n    .dataframe tbody tr th:only-of-type {\n        vertical-align: middle;\n    }\n\n    .dataframe tbody tr th {\n        vertical-align: top;\n    }\n\n    .dataframe thead th {\n        text-align: right;\n    }\n</style>\n<table border=\"1\" class=\"dataframe\">\n  <thead>\n    <tr style=\"text-align: right;\">\n      <th></th>\n      <th>item</th>\n      <th>weight</th>\n    </tr>\n  </thead>\n  <tbody>\n    <tr>\n      <th>0</th>\n      <td>The Garden - Call The Dogs Out</td>\n      <td>84</td>\n    </tr>\n    <tr>\n      <th>1</th>\n      <td>the spirit of the beehive - hypnic jerks</td>\n      <td>75</td>\n    </tr>\n    <tr>\n      <th>2</th>\n      <td>liily - Toro</td>\n      <td>74</td>\n    </tr>\n    <tr>\n      <th>3</th>\n      <td>Violent Soho - Covered in Chrome</td>\n      <td>74</td>\n    </tr>\n    <tr>\n      <th>4</th>\n      <td>Beach Bums - Keepaneyeout</td>\n      <td>73</td>\n    </tr>\n    <tr>\n      <th>...</th>\n      <td>...</td>\n      <td>...</td>\n    </tr>\n    <tr>\n      <th>495</th>\n      <td>Led Zeppelin - When the Levee Breaks</td>\n      <td>13</td>\n    </tr>\n    <tr>\n      <th>496</th>\n      <td>liily - Sold</td>\n      <td>13</td>\n    </tr>\n    <tr>\n      <th>497</th>\n      <td>Magic Potion - Rest Yr Skull</td>\n      <td>13</td>\n    </tr>\n    <tr>\n      <th>498</th>\n      <td>Metric - Help I'm Alive</td>\n      <td>13</td>\n    </tr>\n    <tr>\n      <th>499</th>\n      <td>Miike Snow - In Search Of</td>\n      <td>13</td>\n    </tr>\n  </tbody>\n</table>\n<p>500 rows × 2 columns</p>\n</div>"
     },
     "metadata": {}
    }
   ],
   "source": [
    "last_api = api_adapter.setup_lastfm(Path('private', 'lastfm_credential.json'))\n",
    "top_tracks_lastfm = pd.DataFrame(\n",
    "    last_api.user.get_top_tracks(period='overall', limit=500)\n",
    ")\n",
    "display(top_tracks_lastfm)"
   ]
  },
  {
   "cell_type": "markdown",
   "metadata": {},
   "source": [
    "Issue is that LastFM and Spotify don't share the same songs ID or data management."
   ]
  }
 ],
 "metadata": {
  "language_info": {
   "codemirror_mode": {
    "name": "ipython",
    "version": 3
   },
   "file_extension": ".py",
   "mimetype": "text/x-python",
   "name": "python",
   "nbconvert_exporter": "python",
   "pygments_lexer": "ipython3",
   "version": "3.8.6-final"
  },
  "orig_nbformat": 2,
  "kernelspec": {
   "name": "python38664bitvenvd0df888a817b4373b7808de25afabc5b",
   "display_name": "Python 3.8.6 64-bit ('.venv')"
  }
 },
 "nbformat": 4,
 "nbformat_minor": 2
}