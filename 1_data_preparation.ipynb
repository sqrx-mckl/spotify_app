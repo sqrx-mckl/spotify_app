{
 "cells": [
  {
   "cell_type": "code",
   "execution_count": 14,
   "metadata": {},
   "outputs": [],
   "source": [
    "from pathlib import Path\n",
    "from IPython.display import display\n",
    "\n",
    "import numpy as np\n",
    "import pandas as pd\n",
    "\n",
    "import spotipy\n",
    "import lib_spotify_app.api_adapter as api_adapter\n",
    "\n",
    "pd.set_option('max_columns', None)"
   ]
  },
  {
   "cell_type": "code",
   "execution_count": 15,
   "metadata": {},
   "outputs": [],
   "source": [
    "credential_fp = Path(r'private/spotify_credential.json')"
   ]
  },
  {
   "cell_type": "markdown",
   "metadata": {},
   "source": [
    "I download all the saved/liked tracks from my Spotify account and their audio features:\n",
    "https://developer.spotify.com/documentation/web-api/reference/tracks/get-several-audio-features/"
   ]
  },
  {
   "cell_type": "code",
   "execution_count": 16,
   "metadata": {},
   "outputs": [],
   "source": [
    "sp = api_adapter.setup_spotipy(\n",
    "    credential_fp,\n",
    "    scope=['user-library-read','user-top-read'],\n",
    "    cache_path=Path(r'private')\n",
    ")\n",
    "\n",
    "df = api_adapter.query_liked_songs(sp)\n",
    "df = api_adapter.enrich_audiofeature(df, sp, col=\"track.id\")"
   ]
  },
  {
   "cell_type": "code",
   "execution_count": 17,
   "metadata": {},
   "outputs": [],
   "source": [
    "df = df.drop('index', axis=1)\n",
    "df['added_at'] = pd.to_datetime(df['added_at'])"
   ]
  },
  {
   "cell_type": "markdown",
   "metadata": {},
   "source": [
    "I notice that I can know when I saved/liked the song, I would like to know when I was the most active:"
   ]
  },
  {
   "cell_type": "markdown",
   "metadata": {},
   "source": [
    "Cleaning of the columns for analysis, names are too complex and I will concatenate the \"artists\" into a list column"
   ]
  },
  {
   "cell_type": "code",
   "execution_count": 18,
   "metadata": {
    "tags": []
   },
   "outputs": [
    {
     "output_type": "execute_result",
     "data": {
      "text/plain": "array(['added_at', 'album.album_type',\n       'album.artists.0.external_urls.spotify', 'album.artists.0.href',\n       'album.artists.0.id', 'album.artists.0.name',\n       'album.artists.0.type', 'album.artists.0.uri',\n       'album.available_markets', 'album.external_urls.spotify',\n       'album.href', 'album.id', 'album.images.0.height',\n       'album.images.0.url', 'album.images.0.width',\n       'album.images.1.height', 'album.images.1.url',\n       'album.images.1.width', 'album.images.2.height',\n       'album.images.2.url', 'album.images.2.width', 'album.name',\n       'album.release_date', 'album.release_date_precision',\n       'album.total_tracks', 'album.type', 'album.uri',\n       'artists.0.external_urls.spotify', 'artists.0.href',\n       'artists.0.id', 'artists.0.name', 'artists.0.type',\n       'artists.0.uri', 'available_markets', 'disc_number', 'duration_ms',\n       'explicit', 'external_ids.isrc', 'external_urls.spotify', 'href',\n       'id', 'is_local', 'name', 'popularity', 'preview_url',\n       'track_number', 'type', 'uri',\n       'album.artists.1.external_urls.spotify', 'album.artists.1.href',\n       'album.artists.1.id', 'album.artists.1.name',\n       'album.artists.1.type', 'album.artists.1.uri',\n       'artists.1.external_urls.spotify', 'artists.1.href',\n       'artists.1.id', 'artists.1.name', 'artists.1.type',\n       'artists.1.uri', 'artists.2.external_urls.spotify',\n       'artists.2.href', 'artists.2.id', 'artists.2.name',\n       'artists.2.type', 'artists.2.uri',\n       'artists.3.external_urls.spotify', 'artists.3.href',\n       'artists.3.id', 'artists.3.name', 'artists.3.type',\n       'artists.3.uri', 'artists.4.external_urls.spotify',\n       'artists.4.href', 'artists.4.id', 'artists.4.name',\n       'artists.4.type', 'artists.4.uri',\n       'artists.5.external_urls.spotify', 'artists.5.href',\n       'artists.5.id', 'artists.5.name', 'artists.5.type',\n       'artists.5.uri', 'artists.6.external_urls.spotify',\n       'artists.6.href', 'artists.6.id', 'artists.6.name',\n       'artists.6.type', 'artists.6.uri',\n       'artists.7.external_urls.spotify', 'artists.7.href',\n       'artists.7.id', 'artists.7.name', 'artists.7.type',\n       'artists.7.uri', 'artists.8.external_urls.spotify',\n       'artists.8.href', 'artists.8.id', 'artists.8.name',\n       'artists.8.type', 'artists.8.uri',\n       'linked_from.external_urls.spotify', 'linked_from.href',\n       'linked_from.id', 'linked_from.type', 'linked_from.uri',\n       'album.artists.2.external_urls.spotify', 'album.artists.2.href',\n       'album.artists.2.id', 'album.artists.2.name',\n       'album.artists.2.type', 'album.artists.2.uri',\n       'album.artists.3.external_urls.spotify', 'album.artists.3.href',\n       'album.artists.3.id', 'album.artists.3.name',\n       'album.artists.3.type', 'album.artists.3.uri',\n       'album.artists.4.external_urls.spotify', 'album.artists.4.href',\n       'album.artists.4.id', 'album.artists.4.name',\n       'album.artists.4.type', 'album.artists.4.uri',\n       'album.artists.5.external_urls.spotify', 'album.artists.5.href',\n       'album.artists.5.id', 'album.artists.5.name',\n       'album.artists.5.type', 'album.artists.5.uri',\n       'album.artists.6.external_urls.spotify', 'album.artists.6.href',\n       'album.artists.6.id', 'album.artists.6.name',\n       'album.artists.6.type', 'album.artists.6.uri', 'album.images',\n       'index', 'danceability', 'energy', 'key', 'loudness', 'mode',\n       'speechiness', 'acousticness', 'instrumentalness', 'liveness',\n       'valence', 'tempo', 'track_href', 'analysis_url', 'time_signature'],\n      dtype=object)"
     },
     "metadata": {},
     "execution_count": 18
    }
   ],
   "source": [
    "df.columns = df.columns.str.replace('^(track\\.)(id\\.)?', '')\n",
    "df = df.loc[:,~df.columns.duplicated()]\n",
    "df.columns.values"
   ]
  },
  {
   "cell_type": "markdown",
   "metadata": {},
   "source": [
    "Concatenate the artists values into 1 column for:\n",
    "* names\n",
    "* id"
   ]
  },
  {
   "cell_type": "code",
   "execution_count": 19,
   "metadata": {},
   "outputs": [],
   "source": [
    "df['artists.name'] = df.filter(regex='^artists\\.\\d+\\.name')\\\n",
    "                       .apply(lambda x: x.dropna().to_list(), axis=1)\n",
    "df['artists.id'] = df.filter(regex='^artists\\.\\d+\\.id')\\\n",
    "                     .apply(lambda x: x.dropna().to_list(), axis=1)\n",
    "df['duration_min'] = df['duration_ms'] / 60000"
   ]
  },
  {
   "cell_type": "code",
   "execution_count": 20,
   "metadata": {},
   "outputs": [],
   "source": [
    "df.to_csv(Path(r'private/data.csv'))"
   ]
  },
  {
   "cell_type": "markdown",
   "metadata": {},
   "source": [
    "We can use the LastFM app to enrich the songs features with the number of listening from the user"
   ]
  },
  {
   "cell_type": "code",
   "execution_count": 22,
   "metadata": {},
   "outputs": [
    {
     "output_type": "display_data",
     "data": {
      "text/plain": "                                         item  weight\n0              The Garden - Call The Dogs Out      84\n1    the spirit of the beehive - hypnic jerks      75\n2                                liily - Toro      74\n3            Violent Soho - Covered in Chrome      74\n4                   Beach Bums - Keepaneyeout      73\n..                                        ...     ...\n495      Led Zeppelin - When the Levee Breaks      13\n496                              liily - Sold      13\n497              Magic Potion - Rest Yr Skull      13\n498                   Metric - Help I'm Alive      13\n499                 Miike Snow - In Search Of      13\n\n[500 rows x 2 columns]",
      "text/html": "<div>\n<style scoped>\n    .dataframe tbody tr th:only-of-type {\n        vertical-align: middle;\n    }\n\n    .dataframe tbody tr th {\n        vertical-align: top;\n    }\n\n    .dataframe thead th {\n        text-align: right;\n    }\n</style>\n<table border=\"1\" class=\"dataframe\">\n  <thead>\n    <tr style=\"text-align: right;\">\n      <th></th>\n      <th>item</th>\n      <th>weight</th>\n    </tr>\n  </thead>\n  <tbody>\n    <tr>\n      <th>0</th>\n      <td>The Garden - Call The Dogs Out</td>\n      <td>84</td>\n    </tr>\n    <tr>\n      <th>1</th>\n      <td>the spirit of the beehive - hypnic jerks</td>\n      <td>75</td>\n    </tr>\n    <tr>\n      <th>2</th>\n      <td>liily - Toro</td>\n      <td>74</td>\n    </tr>\n    <tr>\n      <th>3</th>\n      <td>Violent Soho - Covered in Chrome</td>\n      <td>74</td>\n    </tr>\n    <tr>\n      <th>4</th>\n      <td>Beach Bums - Keepaneyeout</td>\n      <td>73</td>\n    </tr>\n    <tr>\n      <th>...</th>\n      <td>...</td>\n      <td>...</td>\n    </tr>\n    <tr>\n      <th>495</th>\n      <td>Led Zeppelin - When the Levee Breaks</td>\n      <td>13</td>\n    </tr>\n    <tr>\n      <th>496</th>\n      <td>liily - Sold</td>\n      <td>13</td>\n    </tr>\n    <tr>\n      <th>497</th>\n      <td>Magic Potion - Rest Yr Skull</td>\n      <td>13</td>\n    </tr>\n    <tr>\n      <th>498</th>\n      <td>Metric - Help I'm Alive</td>\n      <td>13</td>\n    </tr>\n    <tr>\n      <th>499</th>\n      <td>Miike Snow - In Search Of</td>\n      <td>13</td>\n    </tr>\n  </tbody>\n</table>\n<p>500 rows × 2 columns</p>\n</div>"
     },
     "metadata": {}
    }
   ],
   "source": [
    "last_api = api_adapter.setup_lastfm(Path('private', 'lastfm_credential.json'))\n",
    "top_tracks_lastfm = pd.DataFrame(\n",
    "    last_api.user.get_top_tracks(period='overall', limit=500)\n",
    ")\n",
    "display(top_tracks_lastfm)"
   ]
  },
  {
   "cell_type": "markdown",
   "metadata": {},
   "source": [
    "Issue is that LastFM and Spotify don't share the same songs ID or data management."
   ]
  }
 ],
 "metadata": {
  "language_info": {
   "codemirror_mode": {
    "name": "ipython",
    "version": 3
   },
   "file_extension": ".py",
   "mimetype": "text/x-python",
   "name": "python",
   "nbconvert_exporter": "python",
   "pygments_lexer": "ipython3",
   "version": "3.7.7-final"
  },
  "orig_nbformat": 2,
  "kernelspec": {
   "name": "python37664bitanaconda3virtualenve1a4736af11941998e96b52408d2750f",
   "display_name": "Python 3.7.6 64-bit ('anaconda3': virtualenv)"
  }
 },
 "nbformat": 4,
 "nbformat_minor": 2
}